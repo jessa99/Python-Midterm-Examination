{
  "nbformat": 4,
  "nbformat_minor": 0,
  "metadata": {
    "colab": {
      "name": "Jessa_Mae_Calderon_Exam_1.ipynb",
      "provenance": [],
      "collapsed_sections": []
    },
    "kernelspec": {
      "name": "python3",
      "display_name": "Python 3"
    },
    "language_info": {
      "name": "python"
    }
  },
  "cells": [
    {
      "cell_type": "markdown",
      "source": [
        "This is Part 1 of the Midterm Exams"
      ],
      "metadata": {
        "id": "Ob3ABWmuOcBb"
      }
    },
    {
      "cell_type": "code",
      "source": [
        "heroes = ['Batman', 'Superman', 'Spiderman']\n",
        "print(heroes)\n",
        "print(heroes.index('Batman'))\n",
        "print(heroes[0])\n",
        "heroes.append('Wonderwoman')\n",
        "heroes.remove('Batman')\n",
        "print(heroes[2])\n",
        "print(heroes.index('Superman'))\n",
        "print(heroes)"
      ],
      "metadata": {
        "id": "yFH8LzxMMkJN",
        "outputId": "8b52d4d0-3191-4013-c1fb-a395f4c2aa3e",
        "colab": {
          "base_uri": "https://localhost:8080/"
        }
      },
      "execution_count": null,
      "outputs": [
        {
          "output_type": "stream",
          "name": "stdout",
          "text": [
            "['Batman', 'Superman', 'Spiderman']\n",
            "0\n",
            "Batman\n",
            "Wonderwoman\n",
            "0\n",
            "['Superman', 'Spiderman', 'Wonderwoman']\n"
          ]
        }
      ]
    },
    {
      "cell_type": "markdown",
      "source": [
        "The code print all the heroes, the function append means to add an item in the list and the remove function deletes an item in the list."
      ],
      "metadata": {
        "id": "jkXcNeUKgvJa"
      }
    },
    {
      "cell_type": "code",
      "source": [
        ""
      ],
      "metadata": {
        "id": "RPEVU5AuhNFb"
      },
      "execution_count": null,
      "outputs": []
    },
    {
      "cell_type": "code",
      "source": [
        "heroes = ['Batman', 'Superman', 'Spiderman']\n",
        "print('Batman' in heroes)\n",
        "print('Ironman' not in heroes)\n",
        "hero = 'Superman'\n",
        "print(hero in heroes)\n",
        "print('Ironman' not in ['Captain America', 'Ironman', 'Hulk'])"
      ],
      "metadata": {
        "outputId": "e0e78092-cae3-41f0-c448-97003cfab969",
        "colab": {
          "base_uri": "https://localhost:8080/"
        },
        "id": "iIh_1aN7hQ0E"
      },
      "execution_count": null,
      "outputs": [
        {
          "output_type": "stream",
          "name": "stdout",
          "text": [
            "True\n",
            "True\n",
            "True\n",
            "False\n"
          ]
        }
      ]
    },
    {
      "cell_type": "markdown",
      "source": [
        "There's a hashtag in the given code, which makes it confusing. The code is giving a boolean value, and it tells whether a hero is in the column of heroes."
      ],
      "metadata": {
        "id": "wRDBsKefhZFs"
      }
    },
    {
      "cell_type": "code",
      "source": [
        "heroes1 = ['Batman', 'Superman', 'Spiderman']\n",
        "heroes2 = ['Captain America', 'Ironman', 'Hulk']\n",
        "print(heroes1 + heroes2)\n",
        "heroes = heroes1 + heroes2\n",
        "heroes2.remove('Hulk')\n",
        "print(heroes1 + heroes2)"
      ],
      "metadata": {
        "colab": {
          "base_uri": "https://localhost:8080/"
        },
        "id": "_LXS_mLghex8",
        "outputId": "3b0fd69c-0c05-4c6a-d96e-b1a480fe5c74"
      },
      "execution_count": null,
      "outputs": [
        {
          "output_type": "stream",
          "name": "stdout",
          "text": [
            "['Batman', 'Superman', 'Spiderman', 'Captain America', 'Ironman', 'Hulk']\n",
            "['Batman', 'Superman', 'Spiderman', 'Captain America', 'Ironman']\n"
          ]
        }
      ]
    },
    {
      "cell_type": "markdown",
      "source": [
        "The code simply put together all the heroes and then in the second part Hulk was removed."
      ],
      "metadata": {
        "id": "AG16-CVXhj4h"
      }
    },
    {
      "cell_type": "code",
      "source": [
        "heroes = ['Batman', 'Superman', 'Spiderman', 'Captain America', 'Ironman', 'Hulk']\n",
        "heroes.sort()\n",
        "print(heroes)"
      ],
      "metadata": {
        "colab": {
          "base_uri": "https://localhost:8080/"
        },
        "id": "8GSEqVzjhp0y",
        "outputId": "1a5e933e-34ff-4efb-e5b6-372f13aacc4b"
      },
      "execution_count": null,
      "outputs": [
        {
          "output_type": "stream",
          "name": "stdout",
          "text": [
            "['Batman', 'Captain America', 'Hulk', 'Ironman', 'Spiderman', 'Superman']\n"
          ]
        }
      ]
    },
    {
      "cell_type": "markdown",
      "source": [
        "The sort function arranged the input data into alphabetical order."
      ],
      "metadata": {
        "id": "Kq3LFor2htYi"
      }
    },
    {
      "cell_type": "code",
      "source": [
        "heroes = ['Batman', 'Superman', 'Spiderman', 'Captain America', 'Ironman', 'Hulk']\n",
        "heroes.reverse()\n",
        "print(heroes)"
      ],
      "metadata": {
        "colab": {
          "base_uri": "https://localhost:8080/"
        },
        "id": "4HDCpjakhxsE",
        "outputId": "ae2fcb02-1998-4bfa-f584-57374e8fcb27"
      },
      "execution_count": null,
      "outputs": [
        {
          "output_type": "stream",
          "name": "stdout",
          "text": [
            "['Hulk', 'Ironman', 'Captain America', 'Spiderman', 'Superman', 'Batman']\n"
          ]
        }
      ]
    },
    {
      "cell_type": "markdown",
      "source": [
        "The reverse function reversed the order of the heroes."
      ],
      "metadata": {
        "id": "5xeF8KT2h3GB"
      }
    },
    {
      "cell_type": "code",
      "source": [
        "heroes = ['Batman', 'Superman', 'Spiderman', 'Captain America', 'Ironman', 'Hulk']\n",
        "print(sorted(heroes))\n",
        "print(list(reversed(heroes)))\n",
        "print(heroes)"
      ],
      "metadata": {
        "colab": {
          "base_uri": "https://localhost:8080/"
        },
        "id": "eAD8P1AOiPdy",
        "outputId": "86e66220-3b85-4b99-a1c6-4ed35d57880c"
      },
      "execution_count": null,
      "outputs": [
        {
          "output_type": "stream",
          "name": "stdout",
          "text": [
            "['Batman', 'Captain America', 'Hulk', 'Ironman', 'Spiderman', 'Superman']\n",
            "['Hulk', 'Ironman', 'Captain America', 'Spiderman', 'Superman', 'Batman']\n",
            "['Batman', 'Superman', 'Spiderman', 'Captain America', 'Ironman', 'Hulk']\n"
          ]
        }
      ]
    },
    {
      "cell_type": "markdown",
      "source": [
        "The first output was the sorted heroes in alphabetical order, the second output was the reverse order of the given value on the column heroes and the third output was the reverse order of the second output."
      ],
      "metadata": {
        "id": "946ad3qoiYej"
      }
    },
    {
      "cell_type": "code",
      "source": [
        "heroes = ['Batman', 'Superman', 'Spiderman', 'Captain America', 'Ironman', 'Hulk']\n",
        "for hero in heroes:\n",
        "  print(f\"my hero is {hero}\")"
      ],
      "metadata": {
        "colab": {
          "base_uri": "https://localhost:8080/"
        },
        "id": "B-Nrpmz7ieph",
        "outputId": "ef39e675-dd8f-4430-a16e-21e4f6d70424"
      },
      "execution_count": null,
      "outputs": [
        {
          "output_type": "stream",
          "name": "stdout",
          "text": [
            "my hero is Batman\n",
            "my hero is Superman\n",
            "my hero is Spiderman\n",
            "my hero is Captain America\n",
            "my hero is Ironman\n",
            "my hero is Hulk\n"
          ]
        }
      ]
    },
    {
      "cell_type": "markdown",
      "source": [
        "The code print all the heroes that begins with \"my hero is\"."
      ],
      "metadata": {
        "id": "Pc-vTJsvimVZ"
      }
    },
    {
      "cell_type": "code",
      "source": [
        "heroes = ['Batman', 'Superman', 'Spiderman', 'Captain America', 'Ironman', 'Hulk']\n",
        "for hero in heroes:\n",
        "  print(\"my hero is {}\".format(hero))"
      ],
      "metadata": {
        "colab": {
          "base_uri": "https://localhost:8080/"
        },
        "id": "XVXwjqz_ir--",
        "outputId": "ae2b9387-bc77-417f-a77e-5f1e9a2d9973"
      },
      "execution_count": null,
      "outputs": [
        {
          "output_type": "stream",
          "name": "stdout",
          "text": [
            "my hero is Batman\n",
            "my hero is Superman\n",
            "my hero is Spiderman\n",
            "my hero is Captain America\n",
            "my hero is Ironman\n",
            "my hero is Hulk\n"
          ]
        }
      ]
    },
    {
      "cell_type": "markdown",
      "source": [
        "This is the same as the code above but the only difference is the function format of hero."
      ],
      "metadata": {
        "id": "OKngtC4CiwD0"
      }
    },
    {
      "cell_type": "code",
      "source": [
        "numbers = [1, 2, 3, 4, 5, 6]\n",
        "total = 0\n",
        "for number in numbers:\n",
        "  total = total + number\n",
        "  print(total)"
      ],
      "metadata": {
        "colab": {
          "base_uri": "https://localhost:8080/"
        },
        "id": "SNeR33S6i0TR",
        "outputId": "7168a63e-8421-4d41-808b-24546d2ff9bc"
      },
      "execution_count": null,
      "outputs": [
        {
          "output_type": "stream",
          "name": "stdout",
          "text": [
            "1\n",
            "3\n",
            "6\n",
            "10\n",
            "15\n",
            "21\n"
          ]
        }
      ]
    },
    {
      "cell_type": "markdown",
      "source": [
        "In getting the total of the output, the following is the solution used:\n",
        "0+1 = 1,\n",
        "1+2 = 3,\n",
        "1+2+3 = 6,\n",
        "1+2+3+4 = 10,\n",
        "1+2+3+4+5 = 15,\n",
        "1+2+3+4+5+6 =21"
      ],
      "metadata": {
        "id": "Qc1nH5ahi4pk"
      }
    },
    {
      "cell_type": "code",
      "source": [
        "numbers = [1, 2, 3, 4, 5, 6]\n",
        "total = sum(numbers)\n",
        "print(total)"
      ],
      "metadata": {
        "colab": {
          "base_uri": "https://localhost:8080/"
        },
        "id": "W9n1enL8kJdD",
        "outputId": "89df8eca-4c76-4f21-b234-3bf0c3d8aee2"
      },
      "execution_count": null,
      "outputs": [
        {
          "output_type": "stream",
          "name": "stdout",
          "text": [
            "21\n"
          ]
        }
      ]
    },
    {
      "cell_type": "markdown",
      "source": [
        "The code added all the total sum of the numbers."
      ],
      "metadata": {
        "id": "E1zWCGxqkSpc"
      }
    },
    {
      "cell_type": "code",
      "source": [
        "age = input(\"Type your age: \")\n",
        "age = int(age)\n",
        "if age >= 100:\n",
        "  print(\"That is not a valid age\")\n",
        "elif age >= 18:\n",
        "  print(\"You are old enough to drive\")\n",
        "elif age <= 0:\n",
        "  print(\"That is not a valid age\")\n",
        "else:\n",
        "   print(\"You are old enough to drive\")  "
      ],
      "metadata": {
        "colab": {
          "base_uri": "https://localhost:8080/"
        },
        "id": "euaBemlKkZka",
        "outputId": "79d042c8-fc31-4c06-b215-993ab13a2eb2"
      },
      "execution_count": null,
      "outputs": [
        {
          "output_type": "stream",
          "name": "stdout",
          "text": [
            "Type your age: 22\n",
            "You are old enough to drive\n"
          ]
        }
      ]
    },
    {
      "cell_type": "markdown",
      "source": [
        "If the input age is above 100, it will print that it is not a valid age. If it is 18 and above it will old enough to drive and if it is less than sorry, it will print that it is not a valid age also to drive."
      ],
      "metadata": {
        "id": "EHPexB8Gkl37"
      }
    },
    {
      "cell_type": "code",
      "source": [
        "age = input(\"Type your age: \")\n",
        "age = int(age)\n",
        "if age >= 100 or age <= 0:\n",
        "  print(\"That is not a valid age\")\n",
        "elif age >= 18:\n",
        "  print(\"You are old enough to drive\")\n",
        "else:\n",
        "   print(\"You are old enough to drive\")  "
      ],
      "metadata": {
        "colab": {
          "base_uri": "https://localhost:8080/"
        },
        "id": "BTg0jnuTlKma",
        "outputId": "8ff9d305-ce88-4e85-e700-22339a1ec8d3"
      },
      "execution_count": null,
      "outputs": [
        {
          "output_type": "stream",
          "name": "stdout",
          "text": [
            "Type your age: 100\n",
            "That is not a valid age\n"
          ]
        }
      ]
    },
    {
      "cell_type": "markdown",
      "source": [
        "It is the same as the code above it but the more than 100 and less than 0 were just put together in the same place."
      ],
      "metadata": {
        "id": "wM2bAYd9lZEG"
      }
    },
    {
      "cell_type": "code",
      "source": [
        "numbers = [200, 100, 43, 10, -10, 0]\n",
        "for number in numbers:\n",
        "  if number > 100:\n",
        "    print(f\"{number} is greater than 100\")\n",
        "  elif number <100:\n",
        "    print(f\"{number} is less than 100\") "
      ],
      "metadata": {
        "colab": {
          "base_uri": "https://localhost:8080/"
        },
        "id": "ihyWSLHGlS41",
        "outputId": "d1d69498-2214-4ece-8dfb-b4ceba6d5d6d"
      },
      "execution_count": null,
      "outputs": [
        {
          "output_type": "stream",
          "name": "stdout",
          "text": [
            "200 is greater than 100\n",
            "43 is less than 100\n",
            "10 is less than 100\n",
            "-10 is less than 100\n",
            "0 is less than 100\n"
          ]
        }
      ]
    },
    {
      "cell_type": "markdown",
      "source": [
        "It prints whether the numbers in the column is greater than or less than 100. "
      ],
      "metadata": {
        "id": "_9gvp1i4lu-A"
      }
    },
    {
      "cell_type": "code",
      "source": [
        "numbers = [200, 100, 43, 10, -10, 0]\n",
        "filtered = []\n",
        "\n",
        "for number in numbers:\n",
        "  if number > 30:\n",
        "    filtered.append(number)\n",
        "\n",
        "print(filtered)  "
      ],
      "metadata": {
        "colab": {
          "base_uri": "https://localhost:8080/"
        },
        "id": "F4L2BEnJl9Cs",
        "outputId": "32dd220e-1dba-49af-baa2-e18293b2348d"
      },
      "execution_count": null,
      "outputs": [
        {
          "output_type": "stream",
          "name": "stdout",
          "text": [
            "[200, 100, 43]\n"
          ]
        }
      ]
    },
    {
      "cell_type": "markdown",
      "source": [
        "The filtered function include all the number that are more than 30."
      ],
      "metadata": {
        "id": "atYXTvyPmDLL"
      }
    }
  ]
}