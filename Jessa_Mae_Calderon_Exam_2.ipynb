{
  "nbformat": 4,
  "nbformat_minor": 0,
  "metadata": {
    "colab": {
      "name": "Jessa_Mae_Calderon_Exam_2.ipynb",
      "provenance": [],
      "collapsed_sections": []
    },
    "kernelspec": {
      "name": "python3",
      "display_name": "Python 3"
    },
    "language_info": {
      "name": "python"
    }
  },
  "cells": [
    {
      "cell_type": "markdown",
      "source": [
        "This is Part 2 of the Midterm Exams"
      ],
      "metadata": {
        "id": "xedlXB_XOHx4"
      }
    },
    {
      "cell_type": "code",
      "execution_count": null,
      "metadata": {
        "colab": {
          "base_uri": "https://localhost:8080/"
        },
        "id": "xgFgOxJymieH",
        "outputId": "6338f6b4-a943-4d44-8435-749f3842ded3"
      },
      "outputs": [
        {
          "output_type": "stream",
          "name": "stdout",
          "text": [
            "1 is odd\n",
            "2 is even\n",
            "3 is odd\n",
            "4 is even\n",
            "5 is odd\n",
            "6 is even\n"
          ]
        }
      ],
      "source": [
        "numbers = [1, 2, 3, 4, 5, 6]\n",
        "\n",
        "for number in numbers:\n",
        "  if(number%2) == 0:\n",
        "    print(f\"{number} is even\")\n",
        "  else:\n",
        "    print(f\"{number} is odd\")  "
      ]
    },
    {
      "cell_type": "markdown",
      "source": [
        "It shows whether the numbers is even or odd."
      ],
      "metadata": {
        "id": "Z1meCHEunupp"
      }
    },
    {
      "cell_type": "code",
      "source": [
        "numbers = [1, 2, 3, 4, 5, 6]\n",
        "evens = [ ]\n",
        "odds = [ ]\n",
        "\n",
        "for number in numbers: \n",
        "  if (number%2) == 0:\n",
        "    evens.append(number)\n",
        "\n",
        "for number in numbers:\n",
        "   if (number%2) != 0:\n",
        "     odds.append(number)\n",
        "\n",
        "print(evens)   \n",
        "print(odds)     "
      ],
      "metadata": {
        "colab": {
          "base_uri": "https://localhost:8080/"
        },
        "id": "psjsiad9n5YA",
        "outputId": "dc17ca99-9b43-4c1b-ad0a-1d4d4faa3c96"
      },
      "execution_count": null,
      "outputs": [
        {
          "output_type": "stream",
          "name": "stdout",
          "text": [
            "[2, 4, 6]\n",
            "[1, 3, 5]\n"
          ]
        }
      ]
    },
    {
      "cell_type": "markdown",
      "source": [
        "It printed all the even numbers and the odd numbers separately."
      ],
      "metadata": {
        "id": "YBrWRkhdpLLn"
      }
    },
    {
      "cell_type": "code",
      "source": [
        "numbers = [1, 2, 3, 4, 5, 6]\n",
        "doubles = [ ]\n",
        "for number in numbers:\n",
        "  number*= 2\n",
        "  doubles.append(number)\n",
        "print(doubles)"
      ],
      "metadata": {
        "colab": {
          "base_uri": "https://localhost:8080/"
        },
        "id": "lNyYB_1JpOcn",
        "outputId": "2ff25f13-4481-4708-f0a3-dd48d4090b22"
      },
      "execution_count": null,
      "outputs": [
        {
          "output_type": "stream",
          "name": "stdout",
          "text": [
            "[2, 4, 6, 8, 10, 12]\n"
          ]
        }
      ]
    },
    {
      "cell_type": "markdown",
      "source": [
        "The number raise by two."
      ],
      "metadata": {
        "id": "uxAiC0n4p1dj"
      }
    },
    {
      "cell_type": "code",
      "source": [
        "numbers = [1, 2, 3, 4, 5, 6]\n",
        "\n",
        "evens = [number for number in numbers if (number % 2) == 0]\n",
        "odds = [number for number in numbers if (number % 2) != 0]\n",
        "\n",
        "print(evens)\n",
        "print(odds)"
      ],
      "metadata": {
        "colab": {
          "base_uri": "https://localhost:8080/"
        },
        "id": "tPFOsBwTqDGI",
        "outputId": "5832ea6e-a834-4fbf-985b-5f8bda569982"
      },
      "execution_count": null,
      "outputs": [
        {
          "output_type": "stream",
          "name": "stdout",
          "text": [
            "[2, 4, 6]\n",
            "[1, 3, 5]\n"
          ]
        }
      ]
    },
    {
      "cell_type": "code",
      "source": [
        "numbers = [1, 2, 3, 4, 5, 6]\n",
        "doubles = [number * 2 for number in numbers]\n",
        "print(doubles)"
      ],
      "metadata": {
        "colab": {
          "base_uri": "https://localhost:8080/"
        },
        "id": "vG1KhlghsNsF",
        "outputId": "1caee83c-dd51-49f1-fdba-a4e1cc8e5c25"
      },
      "execution_count": null,
      "outputs": [
        {
          "output_type": "stream",
          "name": "stdout",
          "text": [
            "[2, 4, 6, 8, 10, 12]\n"
          ]
        }
      ]
    },
    {
      "cell_type": "markdown",
      "source": [
        "All the numbers were multiplied by 2."
      ],
      "metadata": {
        "id": "fd3-e2VEseJ-"
      }
    },
    {
      "cell_type": "code",
      "source": [
        "name_lengths = []\n",
        "names = [\"alice\", \"bob\", \"carol\"]\n",
        "name_lengths = [len(name) for name in names]\n",
        "\n",
        "print(name_lengths)"
      ],
      "metadata": {
        "colab": {
          "base_uri": "https://localhost:8080/"
        },
        "id": "6A4AW-iWsZly",
        "outputId": "cbed100b-1b78-4f8c-83be-735c6d2967fb"
      },
      "execution_count": null,
      "outputs": [
        {
          "output_type": "stream",
          "name": "stdout",
          "text": [
            "[5, 3, 5]\n"
          ]
        }
      ]
    },
    {
      "cell_type": "markdown",
      "source": [
        "The lengths function determine the number of letter of the given item in the list."
      ],
      "metadata": {
        "id": "UjYgJ3m5s2hU"
      }
    },
    {
      "cell_type": "code",
      "source": [
        "record = [\"alice\", 5]\n",
        "\n",
        "name, length = record\n",
        "print(f\"{name} have a length of {length}\")"
      ],
      "metadata": {
        "colab": {
          "base_uri": "https://localhost:8080/"
        },
        "id": "M8lpJ_A3tDgd",
        "outputId": "bcefb244-3dee-4f83-96b3-d0792154b610"
      },
      "execution_count": null,
      "outputs": [
        {
          "output_type": "stream",
          "name": "stdout",
          "text": [
            "alice have a length of 5\n"
          ]
        }
      ]
    },
    {
      "cell_type": "code",
      "source": [
        "records = [\n",
        "           [\"alice\", 5],\n",
        "           [\"bob\", 3],\n",
        "           [\"carol\", 5],\n",
        "]\n",
        "for name, length in records:\n",
        "  print(f\"{name} have a length of {length}\")"
      ],
      "metadata": {
        "colab": {
          "base_uri": "https://localhost:8080/"
        },
        "id": "ayiy5gBitTIT",
        "outputId": "a2103c63-0c21-44aa-96f7-815d5d1fcfba"
      },
      "execution_count": null,
      "outputs": [
        {
          "output_type": "stream",
          "name": "stdout",
          "text": [
            "alice have a length of 5\n",
            "bob have a length of 3\n",
            "carol have a length of 5\n"
          ]
        }
      ]
    },
    {
      "cell_type": "code",
      "source": [
        "names = [\"alice\", \"bob\", \"carol\"]\n",
        "name_lengths = [5, 3, 5]\n",
        "\n",
        "for name, length in zip(names, name_lengths):\n",
        "  print(f\"{name} have a length of {length}\")\n",
        "\n",
        "print (zip(names, name_lengths))  \n",
        "print(list(zip(names, name_lengths)))"
      ],
      "metadata": {
        "colab": {
          "base_uri": "https://localhost:8080/"
        },
        "id": "VzsFImKCttBF",
        "outputId": "8d40d268-3a06-42a6-b7aa-c897871b844e"
      },
      "execution_count": null,
      "outputs": [
        {
          "output_type": "stream",
          "name": "stdout",
          "text": [
            "alice have a length of 5\n",
            "bob have a length of 3\n",
            "carol have a length of 5\n",
            "<zip object at 0x7f4ef1ed86e0>\n",
            "[('alice', 5), ('bob', 3), ('carol', 5)]\n"
          ]
        }
      ]
    },
    {
      "cell_type": "code",
      "source": [
        "names = [\"alice\", \"bob\", \"carol\", \"marvin\"]\n",
        "name_lengths = [5, 3, 5]\n",
        "genders = [\"female\", \"male\", \"female\"]\n",
        "ages = [15, 22, 24]\n",
        "\n",
        "for name, length, gender, age in zip(names, name_lengths, genders, ages):\n",
        "  print(f\"{name} have a length of {length}. They are {gender}. Ages are {age}\")\n",
        "print(filter)"
      ],
      "metadata": {
        "colab": {
          "base_uri": "https://localhost:8080/"
        },
        "id": "-dBU-2n4uOpu",
        "outputId": "f5b12c9d-0ab2-44ac-c8e4-5c5dd4ea0f1a"
      },
      "execution_count": null,
      "outputs": [
        {
          "output_type": "stream",
          "name": "stdout",
          "text": [
            "alice have a length of 5. They are female. Ages are 15\n",
            "bob have a length of 3. They are male. Ages are 22\n",
            "carol have a length of 5. They are female. Ages are 24\n",
            "<class 'filter'>\n"
          ]
        }
      ]
    }
  ]
}